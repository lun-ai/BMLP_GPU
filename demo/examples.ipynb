{
 "cells": [
  {
   "cell_type": "markdown",
   "metadata": {},
   "source": [
    "Obtain statistics on BMLP_GPU runtime"
   ]
  },
  {
   "cell_type": "code",
   "execution_count": 11,
   "metadata": {},
   "outputs": [
    {
     "name": "stdout",
     "output_type": "stream",
     "text": [
      "Connected to a GPU - GPU info summary: \n",
      "\n",
      "Wed Mar  5 01:00:52 2025       \n",
      "+-----------------------------------------------------------------------------------------+\n",
      "| NVIDIA-SMI 560.41                 Driver Version: 561.03         CUDA Version: 12.6     |\n",
      "|-----------------------------------------+------------------------+----------------------+\n",
      "| GPU  Name                 Persistence-M | Bus-Id          Disp.A | Volatile Uncorr. ECC |\n",
      "| Fan  Temp   Perf          Pwr:Usage/Cap |           Memory-Usage | GPU-Util  Compute M. |\n",
      "|                                         |                        |               MIG M. |\n",
      "|=========================================+========================+======================|\n",
      "|   0  NVIDIA GeForce RTX 4060 Ti     On  |   00000000:01:00.0  On |                  N/A |\n",
      "| 32%   27C    P8              5W /  160W |     772MiB /   8188MiB |      4%      Default |\n",
      "|                                         |                        |                  N/A |\n",
      "+-----------------------------------------+------------------------+----------------------+\n",
      "                                                                                         \n",
      "+-----------------------------------------------------------------------------------------+\n",
      "| Processes:                                                                              |\n",
      "|  GPU   GI   CI        PID   Type   Process name                              GPU Memory |\n",
      "|        ID   ID                                                               Usage      |\n",
      "|=========================================================================================|\n",
      "|    0   N/A  N/A        31      G   /Xwayland                                   N/A      |\n",
      "+-----------------------------------------------------------------------------------------+\n"
     ]
    }
   ],
   "source": [
    "import cupy as cp \n",
    "import numpy as np\n",
    "from bmlp.core import matrix\n",
    "\n",
    "# Check if connected to GPU\n",
    "gpu_info = !nvidia-smi\n",
    "gpu_info = '\\n'.join(gpu_info)\n",
    "if gpu_info.find('failed') >= 0:\n",
    "    print('Not connected to a GPU: need to configure runtime type to an environment with an accessible GPU')\n",
    "else:\n",
    "    print('Connected to a GPU - GPU info summary: \\n\\n' + gpu_info)"
   ]
  },
  {
   "cell_type": "code",
   "execution_count": 1,
   "metadata": {},
   "outputs": [],
   "source": [
    "# Use python wrapper of GraphBLAS on GPU (BLAS - Basic Linear Algebra Subprograms)\n",
    "# GraphBLAS supports graph operations via linear algebraic methods (e.g. matrix multiplication) over various semirings\n",
    "\n",
    "# GraphBLAS version of BMLP-RMS algorithm which performs repeated matrix squaring\n",
    "from bmlp.core.matrix import *"
   ]
  },
  {
   "cell_type": "code",
   "execution_count": 2,
   "metadata": {},
   "outputs": [],
   "source": [
    "# Simple graph example 1\n",
    "# Create edge list (directed graph) and the number of nodes (matrix dimension)\n",
    "edges = [(0, 1), (1, 2), (2, 3), (3, 4)]\n",
    "num_nodes = 5"
   ]
  },
  {
   "cell_type": "code",
   "execution_count": 3,
   "metadata": {},
   "outputs": [
    {
     "name": "stdout",
     "output_type": "stream",
     "text": [
      "R1 = \n",
      "\"M_0\"      nvals  nrows  ncols  dtype         format\n",
      "gb.Matrix      4      5      5   BOOL  bitmapr (iso)\n",
      "----------------------------------------------------\n",
      "  0     1     2     3     4\n",
      "0    True                  \n",
      "1          True            \n",
      "2                True      \n",
      "3                      True\n",
      "4                          \n",
      "\n",
      "R = R2 + I = \n",
      "\"M_2\"      nvals  nrows  ncols  dtype         format\n",
      "gb.Matrix      9      5      5   BOOL  bitmapr (iso)\n",
      "----------------------------------------------------\n",
      "      0     1     2     3     4\n",
      "0  True  True                  \n",
      "1        True  True            \n",
      "2              True  True      \n",
      "3                    True  True\n",
      "4                          True\n",
      "\n",
      "fixpoint = \n",
      "\"M_3\"      nvals  nrows  ncols  dtype         format\n",
      "gb.Matrix     12      5      5   BOOL  bitmapr (iso)\n",
      "----------------------------------------------------\n",
      "      0     1     2     3     4\n",
      "0  True  True  True            \n",
      "1        True  True  True      \n",
      "2              True  True  True\n",
      "3                    True  True\n",
      "4                          True\n",
      "\n",
      "fixpoint = \n",
      "\"M_3\"      nvals  nrows  ncols  dtype         format\n",
      "gb.Matrix     15      5      5   BOOL  bitmapr (iso)\n",
      "----------------------------------------------------\n",
      "      0     1     2     3     4\n",
      "0  True  True  True  True  True\n",
      "1        True  True  True  True\n",
      "2              True  True  True\n",
      "3                    True  True\n",
      "4                          True\n",
      "\n",
      "fixpoint = \n",
      "\"M_3\"      nvals  nrows  ncols  dtype         format\n",
      "gb.Matrix     15      5      5   BOOL  bitmapr (iso)\n",
      "----------------------------------------------------\n",
      "      0     1     2     3     4\n",
      "0  True  True  True  True  True\n",
      "1        True  True  True  True\n",
      "2              True  True  True\n",
      "3                    True  True\n",
      "4                          True\n",
      "\n",
      "R0* = \n",
      "\"M_4\"      nvals  nrows  ncols  dtype         format\n",
      "gb.Matrix     10      5      5   BOOL  bitmapr (iso)\n",
      "----------------------------------------------------\n",
      "  0     1     2     3     4\n",
      "0    True  True  True  True\n",
      "1          True  True  True\n",
      "2                True  True\n",
      "3                      True\n",
      "4                          \n",
      "\n",
      "closure R2* = \n",
      "\"M_4\"      nvals  nrows  ncols  dtype         format\n",
      "gb.Matrix     10      5      5   BOOL  bitmapr (iso)\n",
      "----------------------------------------------------\n",
      "  0     1     2     3     4\n",
      "0    True  True  True  True\n",
      "1          True  True  True\n",
      "2                True  True\n",
      "3                      True\n",
      "4                          \n",
      "\n"
     ]
    }
   ],
   "source": [
    "# Create a square adjacency matrix using BOOL type\n",
    "R1 = new(num_nodes, num_nodes)\n",
    "\n",
    "# Insert edges into the adjacency matrix\n",
    "for src, dst in edges:\n",
    "    R1[src, dst] = True\n",
    "print('R1 = \\n'+ str(R1) + '\\n')\n",
    "        \n",
    "# Print the transitive closure matrix\n",
    "print('closure R2* = \\n' + str(RMS(R1, print_matrix=True)) + '\\n')"
   ]
  },
  {
   "cell_type": "code",
   "execution_count": 4,
   "metadata": {},
   "outputs": [],
   "source": [
    "# Simple graph example 2\n",
    "# Create edge list (directed graph) and the number of nodes (matrix dimension)\n",
    "edges = [(0, 1), (1, 2), (2, 3), (3, 0), (4, 4)]\n",
    "num_nodes = 5"
   ]
  },
  {
   "cell_type": "code",
   "execution_count": 5,
   "metadata": {},
   "outputs": [
    {
     "name": "stdout",
     "output_type": "stream",
     "text": [
      "R1 = \n",
      "\"M_5\"      nvals  nrows  ncols  dtype         format\n",
      "gb.Matrix      5      5      5   BOOL  bitmapr (iso)\n",
      "----------------------------------------------------\n",
      "      0     1     2     3     4\n",
      "0        True                  \n",
      "1              True            \n",
      "2                    True      \n",
      "3  True                        \n",
      "4                          True\n",
      "\n",
      "closure R2* = \n",
      "\"M_9\"      nvals  nrows  ncols  dtype         format\n",
      "gb.Matrix     17      5      5   BOOL  bitmapr (iso)\n",
      "----------------------------------------------------\n",
      "      0     1     2     3     4\n",
      "0  True  True  True  True      \n",
      "1  True  True  True  True      \n",
      "2  True  True  True  True      \n",
      "3  True  True  True  True      \n",
      "4                          True\n",
      "\n"
     ]
    }
   ],
   "source": [
    "# Create a square adjacency matrix using BOOL type\n",
    "R1 = new(num_nodes, num_nodes)\n",
    "\n",
    "# Insert edges into the adjacency matrix\n",
    "for src, dst in edges:\n",
    "    R1[src, dst] = True\n",
    "print('R1 = \\n'+ str(R1) + '\\n')\n",
    "        \n",
    "# Print the transitive closure matrix\n",
    "print('closure R2* = \\n' + str(RMS(R1)) + '\\n')"
   ]
  },
  {
   "cell_type": "code",
   "execution_count": 6,
   "metadata": {},
   "outputs": [
    {
     "name": "stdout",
     "output_type": "stream",
     "text": [
      "closure V* = \n",
      "\"v_7\"      nvals  size  dtype        format\n",
      "gb.Vector      4     5   BOOL  bitmap (iso)\n",
      "-------------------------------------------\n",
      "index     0     1     2     3 4\n",
      "value  True  True  True  True  \n",
      "\n"
     ]
    }
   ],
   "source": [
    "# Create a vector to represent a query\n",
    "V = new(num_nodes)\n",
    "\n",
    "# query the reachability of node 3\n",
    "V[3] = True\n",
    "\n",
    "print('closure V* = \\n' + str(SMP(V,R1)) + '\\n')"
   ]
  },
  {
   "cell_type": "code",
   "execution_count": 7,
   "metadata": {},
   "outputs": [
    {
     "name": "stdout",
     "output_type": "stream",
     "text": [
      "\"M_10\"     nvals  nrows  ncols  dtype         format\n",
      "gb.Matrix      3      3      3   BOOL  bitmapr (iso)\n",
      "----------------------------------------------------\n",
      "      0     1     2\n",
      "0  True  True      \n",
      "1              True\n",
      "2                  \n",
      "\"M_14\"     nvals  nrows  ncols  dtype         format\n",
      "gb.Matrix      6      3      3   BOOL  bitmapr (iso)\n",
      "----------------------------------------------------\n",
      "      0     1     2\n",
      "0              True\n",
      "1  True  True      \n",
      "2  True  True  True\n"
     ]
    }
   ],
   "source": [
    "R1 = new(3, 3)\n",
    "R1[0,0] = True\n",
    "R1[0,1] = True\n",
    "R1[1,2] = True\n",
    "# R1 = R1.apply(gb.types.BOOL.LNOT)\n",
    "print(R1)\n",
    "\n",
    "print(negate(R1))\n"
   ]
  },
  {
   "cell_type": "code",
   "execution_count": 8,
   "metadata": {},
   "outputs": [
    {
     "name": "stdout",
     "output_type": "stream",
     "text": [
      "No. edges: 25000000\n"
     ]
    }
   ],
   "source": [
    "import random, time\n",
    "\n",
    "# Complex graph\n",
    "num_nodes = 5000\n",
    "all_edges = [(i, j) for i in range(num_nodes) for j in range(num_nodes)]\n",
    "print('No. edges: ' + str(len(all_edges)))"
   ]
  },
  {
   "cell_type": "code",
   "execution_count": null,
   "metadata": {},
   "outputs": [],
   "source": [
    "# num_reps = 10\n",
    "# p = 0.5\n",
    "# total_time = []\n",
    "\n",
    "# # repeat num_reps times\n",
    "# for i in range(num_reps):\n",
    "\n",
    "#     # sample edges with edge probability < p\n",
    "#     sampled_edges = list(filter(lambda _: random.random() < p, all_edges))\n",
    "\n",
    "#     # Create a square adjacency matrix using BOOL type\n",
    "#     empty_matrix = new(gb.BOOL, num_nodes, num_nodes)\n",
    "#     R1 = empty_matrix\n",
    "\n",
    "#     # Insert edges into the adjacency matrix\n",
    "#     for src, dst in sampled_edges:\n",
    "#         R1[src, dst] = True\n",
    "\n",
    "#     # Run and time the BMLP-RMS module\n",
    "#     start_time = time.time()\n",
    "#     RMS(R1)\n",
    "#     end_time = time.time()\n",
    "\n",
    "#     total_time.append(end_time - start_time)\n",
    "#     print('Wall time: ' + str(end_time - start_time))\n",
    "\n",
    "# print('Mean wall time: ' + str(np.mean(total_time)))\n",
    "# print('Wall time sterr: ' + str(np.std(total_time) / np.sqrt(len(total_time))))\n"
   ]
  },
  {
   "cell_type": "code",
   "execution_count": 10,
   "metadata": {},
   "outputs": [
    {
     "name": "stdout",
     "output_type": "stream",
     "text": [
      "Wall time: 0.04276418685913086\n",
      "Wall time: 0.024487733840942383\n",
      "Wall time: 0.032889604568481445\n",
      "Wall time: 0.024493694305419922\n",
      "Wall time: 0.03745698928833008\n",
      "Wall time: 0.0311434268951416\n",
      "Wall time: 0.03785300254821777\n",
      "Wall time: 0.029917240142822266\n",
      "Wall time: 0.029431581497192383\n",
      "Wall time: 0.03070855140686035\n",
      "Mean wall time: 0.032114601135253905\n",
      "Wall time sterr: 0.001751225682066303\n"
     ]
    }
   ],
   "source": [
    "num_reps = 10\n",
    "p = 0.5\n",
    "total_time = []\n",
    "\n",
    "# repeat num_reps times\n",
    "for i in range(num_reps):\n",
    "\n",
    "    # sample edges with edge probability < p\n",
    "    sampled_edges = list(filter(lambda _: random.random() < p, all_edges))\n",
    "\n",
    "    # Create a square adjacency matrix using BOOL type\n",
    "    empty_matrix = new(num_nodes, num_nodes)\n",
    "    R1 = empty_matrix\n",
    "\n",
    "    # Insert edges into the adjacency matrix\n",
    "    for src, dst in sampled_edges:\n",
    "        R1[src, dst] = True\n",
    "        \n",
    "    # Create a vector to represent a query\n",
    "    V = new(num_nodes)\n",
    "\n",
    "    # query the reachability of node 3\n",
    "    V[1] = True\n",
    "\n",
    "    # Run and time the BMLP-SMP module\n",
    "    start_time = time.time()\n",
    "    SMP(V,R1)\n",
    "    end_time = time.time()\n",
    "\n",
    "    total_time.append(end_time - start_time)\n",
    "    print('Wall time: ' + str(end_time - start_time))\n",
    "\n",
    "print('Mean wall time: ' + str(np.mean(total_time)))\n",
    "print('Wall time sterr: ' + str(np.std(total_time) / np.sqrt(len(total_time))))"
   ]
  }
 ],
 "metadata": {
  "kernelspec": {
   "display_name": "bmlp",
   "language": "python",
   "name": "python3"
  },
  "language_info": {
   "codemirror_mode": {
    "name": "ipython",
    "version": 3
   },
   "file_extension": ".py",
   "mimetype": "text/x-python",
   "name": "python",
   "nbconvert_exporter": "python",
   "pygments_lexer": "ipython3",
   "version": "3.12.9"
  }
 },
 "nbformat": 4,
 "nbformat_minor": 2
}
