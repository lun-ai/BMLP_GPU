{
 "cells": [
  {
   "cell_type": "code",
   "execution_count": 1,
   "metadata": {},
   "outputs": [
    {
     "name": "stdout",
     "output_type": "stream",
     "text": [
      "CUDA availability: True, device: 1\n"
     ]
    }
   ],
   "source": [
    "import time\n",
    "import torch\n",
    "from bmlp.core.tensor import *\n",
    "\n",
    "print(f'CUDA availability: {torch.cuda.is_available()}, device: {torch.cuda.device_count()}')\n",
    "device = torch.cuda.current_device()"
   ]
  },
  {
   "cell_type": "code",
   "execution_count": 2,
   "metadata": {},
   "outputs": [
    {
     "name": "stdout",
     "output_type": "stream",
     "text": [
      "Device - cuda:0 computing ...\n",
      "Wall time: 0.09727764129638672\n",
      "Device - cuda:0 computing ...\n",
      "Wall time: 0.025022029876708984\n",
      "Device - cuda:0 computing ...\n",
      "Wall time: 0.023743629455566406\n",
      "Device - cuda:0 computing ...\n",
      "Wall time: 0.025258541107177734\n",
      "Device - cuda:0 computing ...\n",
      "Wall time: 0.022919654846191406\n",
      "Device - cuda:0 computing ...\n",
      "Wall time: 0.022800207138061523\n",
      "Device - cuda:0 computing ...\n",
      "Wall time: 0.023186922073364258\n",
      "Device - cuda:0 computing ...\n",
      "Wall time: 0.022879838943481445\n",
      "Device - cuda:0 computing ...\n",
      "Wall time: 0.02263045310974121\n",
      "Device - cuda:0 computing ...\n",
      "Wall time: 0.022568225860595703\n",
      "Mean wall time: 0.03082871437072754\n",
      "Wall time sterr: 0.007010307876246685\n"
     ]
    }
   ],
   "source": [
    "num_reps = 10\n",
    "num_nodes = 5000\n",
    "total_time = []\n",
    "\n",
    "# repeat num_reps times\n",
    "for i in range(num_reps):\n",
    "    \n",
    "    R1 = torch.randint(0, 2, (num_nodes, num_nodes), dtype=D_TYPE, device=GPU_DEVICE)\n",
    "    print(f'Device - {R1.device} computing ...')\n",
    "    \n",
    "    # Run and time the BMLP-SMP module\n",
    "    start_time = time.time()\n",
    "    R1_ = RMS(R1)\n",
    "    end_time = time.time()\n",
    "\n",
    "    total_time.append(end_time - start_time)\n",
    "    print('Wall time: ' + str(end_time - start_time))\n",
    "\n",
    "print('Mean wall time: ' + str(np.mean(total_time)))\n",
    "print('Wall time sterr: ' + str(np.std(total_time) / np.sqrt(len(total_time))))"
   ]
  },
  {
   "cell_type": "code",
   "execution_count": 3,
   "metadata": {},
   "outputs": [
    {
     "name": "stdout",
     "output_type": "stream",
     "text": [
      "Device - cuda:0 computing ...\n",
      "Wall time: 0.014476299285888672\n",
      "Device - cuda:0 computing ...\n",
      "Wall time: 0.0011620521545410156\n",
      "Device - cuda:0 computing ...\n",
      "Wall time: 0.0012629032135009766\n",
      "Device - cuda:0 computing ...\n",
      "Wall time: 0.0012764930725097656\n",
      "Device - cuda:0 computing ...\n",
      "Wall time: 0.0012760162353515625\n",
      "Device - cuda:0 computing ...\n",
      "Wall time: 0.0012259483337402344\n",
      "Device - cuda:0 computing ...\n",
      "Wall time: 0.0011677742004394531\n",
      "Device - cuda:0 computing ...\n",
      "Wall time: 0.0013306140899658203\n",
      "Device - cuda:0 computing ...\n",
      "Wall time: 0.0011336803436279297\n",
      "Device - cuda:0 computing ...\n",
      "Wall time: 0.00118255615234375\n",
      "Mean wall time: 0.002549433708190918\n",
      "Wall time sterr: 0.0012573420789714035\n"
     ]
    }
   ],
   "source": [
    "num_reps = 10\n",
    "num_nodes = 5000\n",
    "total_time = []\n",
    "\n",
    "# repeat num_reps times\n",
    "for i in range(num_reps):\n",
    "    \n",
    "    # Create a vector to represent a query\n",
    "    V = new(num_nodes)\n",
    "\n",
    "    # query the reachability of node 3\n",
    "    V[1] = 1.0\n",
    "    \n",
    "    R1 = torch.randint(0, 2, (num_nodes, num_nodes), dtype=D_TYPE, device=GPU_DEVICE)\n",
    "    print(f'Device - {R1.device} computing ...')\n",
    "    \n",
    "    # Run and time the BMLP-SMP module\n",
    "    start_time = time.time()\n",
    "    SMP(V,R1)\n",
    "    end_time = time.time()\n",
    "\n",
    "    total_time.append(end_time - start_time)\n",
    "    print('Wall time: ' + str(end_time - start_time))\n",
    "\n",
    "print('Mean wall time: ' + str(np.mean(total_time)))\n",
    "print('Wall time sterr: ' + str(np.std(total_time) / np.sqrt(len(total_time))))"
   ]
  }
 ],
 "metadata": {
  "kernelspec": {
   "display_name": "bmlp",
   "language": "python",
   "name": "python3"
  },
  "language_info": {
   "codemirror_mode": {
    "name": "ipython",
    "version": 3
   },
   "file_extension": ".py",
   "mimetype": "text/x-python",
   "name": "python",
   "nbconvert_exporter": "python",
   "pygments_lexer": "ipython3",
   "version": "3.12.9"
  }
 },
 "nbformat": 4,
 "nbformat_minor": 2
}
