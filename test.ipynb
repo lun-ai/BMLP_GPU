{
 "cells": [
  {
   "cell_type": "code",
   "execution_count": 1,
   "metadata": {},
   "outputs": [
    {
     "name": "stdout",
     "output_type": "stream",
     "text": [
      "Connected to a GPU - GPU info summary: \n",
      "\n",
      "Mon Nov 18 10:35:17 2024       \n",
      "+-----------------------------------------------------------------------------------------+\n",
      "| NVIDIA-SMI 555.58.02              Driver Version: 556.12         CUDA Version: 12.5     |\n",
      "|-----------------------------------------+------------------------+----------------------+\n",
      "| GPU  Name                 Persistence-M | Bus-Id          Disp.A | Volatile Uncorr. ECC |\n",
      "| Fan  Temp   Perf          Pwr:Usage/Cap |           Memory-Usage | GPU-Util  Compute M. |\n",
      "|                                         |                        |               MIG M. |\n",
      "|=========================================+========================+======================|\n",
      "|   0  NVIDIA GeForce RTX 4070 ...    On  |   00000000:47:00.0  On |                  N/A |\n",
      "| 30%   26C    P8             12W /  285W |     607MiB /  16376MiB |      3%      Default |\n",
      "|                                         |                        |                  N/A |\n",
      "+-----------------------------------------+------------------------+----------------------+\n",
      "                                                                                         \n",
      "+-----------------------------------------------------------------------------------------+\n",
      "| Processes:                                                                              |\n",
      "|  GPU   GI   CI        PID   Type   Process name                              GPU Memory |\n",
      "|        ID   ID                                                               Usage      |\n",
      "|=========================================================================================|\n",
      "|    0   N/A  N/A        31      G   /Xwayland                                   N/A      |\n",
      "+-----------------------------------------------------------------------------------------+\n"
     ]
    }
   ],
   "source": [
    "import cupy as cp \n",
    "import numpy as np\n",
    "import pygraphblas as gb\n",
    "\n",
    "# Check if connected to GPU\n",
    "gpu_info = !nvidia-smi\n",
    "gpu_info = '\\n'.join(gpu_info)\n",
    "if gpu_info.find('failed') >= 0:\n",
    "    print('Not connected to a GPU: need to configure runtime type to an environment with an accessible GPU')\n",
    "else:\n",
    "    print('Connected to a GPU - GPU info summary: \\n\\n' + gpu_info)"
   ]
  },
  {
   "cell_type": "code",
   "execution_count": 3,
   "metadata": {},
   "outputs": [],
   "source": [
    "# Use python wrapper of GraphBLAS on GPU (BLAS - Basic Linear Algebra Subprograms)\n",
    "# GraphBLAS supports graph operations via linear algebraic methods (e.g. matrix multiplication) over various semirings\n",
    "\n",
    "# GraphBLAS version of BMLP-RMS algorithm which performs repeated matrix squaring\n",
    "from bmlp.Matrix import *"
   ]
  },
  {
   "cell_type": "code",
   "execution_count": null,
   "metadata": {},
   "outputs": [
    {
     "data": {
      "image/png": "[encoded data removed]",
      "text/plain": [
       "<IPython.core.display.Image object>"
      ]
     },
     "execution_count": 4,
     "metadata": {},
     "output_type": "execute_result"
    }
   ],
   "source": [
    "# Simple graph example 1\n",
    "# Create edge list (directed graph) and the number of nodes (matrix dimension)\n",
    "edges = [(0, 1), (1, 2), (2, 3), (3, 4)]\n",
    "num_nodes = 5"
   ]
  },
  {
   "cell_type": "code",
   "execution_count": 5,
   "metadata": {},
   "outputs": [
    {
     "name": "stdout",
     "output_type": "stream",
     "text": [
      "R1 = \n",
      "      0  1  2  3  4\n",
      "  0|     t         |  0\n",
      "  1|        t      |  1\n",
      "  2|           t   |  2\n",
      "  3|              t|  3\n",
      "  4|               |  4\n",
      "      0  1  2  3  4\n",
      "\n",
      "R = R2 + I = \n",
      "      0  1  2  3  4\n",
      "  0|  t  t         |  0\n",
      "  1|     t  t      |  1\n",
      "  2|        t  t   |  2\n",
      "  3|           t  t|  3\n",
      "  4|              t|  4\n",
      "      0  1  2  3  4\n",
      "\n",
      "fixpoint = \n",
      "      0  1  2  3  4\n",
      "  0|  t  t  t      |  0\n",
      "  1|     t  t  t   |  1\n",
      "  2|        t  t  t|  2\n",
      "  3|           t  t|  3\n",
      "  4|              t|  4\n",
      "      0  1  2  3  4\n",
      "\n",
      "fixpoint = \n",
      "      0  1  2  3  4\n",
      "  0|  t  t  t  t  t|  0\n",
      "  1|     t  t  t  t|  1\n",
      "  2|        t  t  t|  2\n",
      "  3|           t  t|  3\n",
      "  4|              t|  4\n",
      "      0  1  2  3  4\n",
      "\n",
      "fixpoint = \n",
      "      0  1  2  3  4\n",
      "  0|  t  t  t  t  t|  0\n",
      "  1|     t  t  t  t|  1\n",
      "  2|        t  t  t|  2\n",
      "  3|           t  t|  3\n",
      "  4|              t|  4\n",
      "      0  1  2  3  4\n",
      "\n",
      "R0* = \n",
      "      0  1  2  3  4\n",
      "  0|     t  t  t  t|  0\n",
      "  1|        t  t  t|  1\n",
      "  2|           t  t|  2\n",
      "  3|              t|  3\n",
      "  4|               |  4\n",
      "      0  1  2  3  4\n",
      "\n",
      "closure R2* = \n",
      "      0  1  2  3  4\n",
      "  0|     t  t  t  t|  0\n",
      "  1|        t  t  t|  1\n",
      "  2|           t  t|  2\n",
      "  3|              t|  3\n",
      "  4|               |  4\n",
      "      0  1  2  3  4\n",
      "\n"
     ]
    }
   ],
   "source": [
    "# Create a square adjacency matrix using BOOL type\n",
    "R1 = gb.Matrix.sparse(gb.BOOL, num_nodes, num_nodes)\n",
    "\n",
    "# Insert edges into the adjacency matrix\n",
    "for src, dst in edges:\n",
    "    R1[src, dst] = True\n",
    "print('R1 = \\n'+ str(R1) + '\\n')\n",
    "        \n",
    "# Print the transitive closure matrix\n",
    "print('closure R2* = \\n' + str(BMLP_RMS(R1, print_matrix=True)) + '\\n')"
   ]
  },
  {
   "cell_type": "code",
   "execution_count": null,
   "metadata": {},
   "outputs": [
    {
     "data": {
      "image/png": "[encoded data removed]",
      "text/plain": [
       "<IPython.core.display.Image object>"
      ]
     },
     "execution_count": 6,
     "metadata": {},
     "output_type": "execute_result"
    }
   ],
   "source": [
    "# Simple graph example 2\n",
    "# Create edge list (directed graph) and the number of nodes (matrix dimension)\n",
    "edges = [(0, 1), (1, 2), (2, 3), (3, 0), (4, 4)]\n",
    "num_nodes = 5"
   ]
  },
  {
   "cell_type": "code",
   "execution_count": 7,
   "metadata": {},
   "outputs": [
    {
     "name": "stdout",
     "output_type": "stream",
     "text": [
      "R1 = \n",
      "      0  1  2  3  4\n",
      "  0|     t         |  0\n",
      "  1|        t      |  1\n",
      "  2|           t   |  2\n",
      "  3|  t            |  3\n",
      "  4|              t|  4\n",
      "      0  1  2  3  4\n",
      "\n",
      "closure R2* = \n",
      "      0  1  2  3  4\n",
      "  0|  t  t  t  t   |  0\n",
      "  1|  t  t  t  t   |  1\n",
      "  2|  t  t  t  t   |  2\n",
      "  3|  t  t  t  t   |  3\n",
      "  4|              t|  4\n",
      "      0  1  2  3  4\n",
      "\n"
     ]
    }
   ],
   "source": [
    "# Create a square adjacency matrix using BOOL type\n",
    "R1 = gb.Matrix.sparse(gb.BOOL, num_nodes, num_nodes)\n",
    "\n",
    "# Insert edges into the adjacency matrix\n",
    "for src, dst in edges:\n",
    "    R1[src, dst] = True\n",
    "print('R1 = \\n'+ str(R1) + '\\n')\n",
    "        \n",
    "# Print the transitive closure matrix\n",
    "print('closure R2* = \\n' + str(BMLP_RMS(R1)) + '\\n')"
   ]
  },
  {
   "cell_type": "code",
   "execution_count": 8,
   "metadata": {},
   "outputs": [
    {
     "name": "stdout",
     "output_type": "stream",
     "text": [
      "closure V* = \n",
      "0| t\n",
      "1| t\n",
      "2| t\n",
      "3| t\n",
      "4|\n",
      "\n"
     ]
    }
   ],
   "source": [
    "# Create a vector to represent a query\n",
    "V = gb.Vector.sparse(gb.BOOL, num_nodes)\n",
    "\n",
    "# query the reachability of node 3\n",
    "V[3] = True\n",
    "\n",
    "print('closure V* = \\n' + str(BMLP_SMP(V,R1)) + '\\n')"
   ]
  },
  {
   "cell_type": "code",
   "execution_count": 9,
   "metadata": {},
   "outputs": [
    {
     "name": "stdout",
     "output_type": "stream",
     "text": [
      "      0  1  2\n",
      "  0|  t  t   |  0\n",
      "  1|        t|  1\n",
      "  2|         |  2\n",
      "      0  1  2\n",
      "      0  1  2\n",
      "  0|        t|  0\n",
      "  1|  t  t   |  1\n",
      "  2|  t  t  t|  2\n",
      "      0  1  2\n"
     ]
    }
   ],
   "source": [
    "from bmlp.Matrix import *\n",
    "\n",
    "R1 = gb.Matrix.sparse(gb.BOOL, 3, 3)\n",
    "R1[0,0] = True\n",
    "R1[0,1] = True\n",
    "R1[1,2] = True\n",
    "# R1 = R1.apply(gb.types.BOOL.LNOT)\n",
    "print(R1)\n",
    "\n",
    "print(matrix_negate(R1))\n"
   ]
  },
  {
   "cell_type": "code",
   "execution_count": 10,
   "metadata": {},
   "outputs": [
    {
     "name": "stdout",
     "output_type": "stream",
     "text": [
      "No. edges: 25000000\n"
     ]
    }
   ],
   "source": [
    "import random, time\n",
    "\n",
    "# Complex graph\n",
    "num_nodes = 5000\n",
    "all_edges = [(i, j) for i in range(num_nodes) for j in range(num_nodes)]\n",
    "print('No. edges: ' + str(len(all_edges)))"
   ]
  },
  {
   "cell_type": "code",
   "execution_count": 11,
   "metadata": {},
   "outputs": [],
   "source": [
    "# num_reps = 10\n",
    "# p = 0.5\n",
    "# total_time = []\n",
    "\n",
    "# # repeat num_reps times\n",
    "# for i in range(num_reps):\n",
    "\n",
    "#     # sample edges with edge probability < p\n",
    "#     sampled_edges = list(filter(lambda _: random.random() < p, all_edges))\n",
    "\n",
    "#     # Create a square adjacency matrix using BOOL type\n",
    "#     empty_matrix = gb.Matrix.sparse(gb.BOOL, num_nodes, num_nodes)\n",
    "#     R1 = empty_matrix\n",
    "\n",
    "#     # Insert edges into the adjacency matrix\n",
    "#     for src, dst in sampled_edges:\n",
    "#         R1[src, dst] = True\n",
    "#     R1.to_binfile(\"large\")\n",
    "\n",
    "#     # Run and time the BMLP-RMS module\n",
    "#     start_time = time.time()\n",
    "#     BMLP_RMS(R1)\n",
    "#     end_time = time.time()\n",
    "\n",
    "#     total_time.append(end_time - start_time)\n",
    "#     print('Wall time: ' + str(end_time - start_time))\n",
    "\n",
    "# print('Mean wall time: ' + str(np.mean(total_time)))\n",
    "# print('Wall time sterr: ' + str(np.std(total_time) / np.sqrt(len(total_time))))\n"
   ]
  },
  {
   "cell_type": "code",
   "execution_count": 16,
   "metadata": {},
   "outputs": [
    {
     "name": "stdout",
     "output_type": "stream",
     "text": [
      "Wall time: 0.03590989112854004\n",
      "Wall time: 0.025182008743286133\n",
      "Wall time: 0.038556575775146484\n",
      "Wall time: 0.04738473892211914\n",
      "Wall time: 0.038585662841796875\n",
      "Wall time: 0.03030228614807129\n",
      "Wall time: 0.0433502197265625\n",
      "Wall time: 0.0416560173034668\n",
      "Wall time: 0.02654719352722168\n",
      "Wall time: 0.041449785232543945\n",
      "Mean wall time: 0.03689243793487549\n",
      "Wall time sterr: 0.002212334799053509\n"
     ]
    }
   ],
   "source": [
    "num_reps = 10\n",
    "p = 0.5\n",
    "total_time = []\n",
    "\n",
    "# repeat num_reps times\n",
    "for i in range(num_reps):\n",
    "\n",
    "    # sample edges with edge probability < p\n",
    "    sampled_edges = list(filter(lambda _: random.random() < p, all_edges))\n",
    "\n",
    "    # Create a square adjacency matrix using BOOL type\n",
    "    empty_matrix = gb.Matrix.sparse(gb.BOOL, num_nodes, num_nodes)\n",
    "    R1 = empty_matrix\n",
    "\n",
    "    # Insert edges into the adjacency matrix\n",
    "    for src, dst in sampled_edges:\n",
    "        R1[src, dst] = True\n",
    "        \n",
    "    # Create a vector to represent a query\n",
    "    V = gb.Vector.sparse(gb.BOOL, num_nodes)\n",
    "\n",
    "    # query the reachability of node 3\n",
    "    V[1] = True\n",
    "\n",
    "    # Run and time the BMLP-SMP module\n",
    "    start_time = time.time()\n",
    "    BMLP_SMP(V,R1)\n",
    "    end_time = time.time()\n",
    "\n",
    "    total_time.append(end_time - start_time)\n",
    "    print('Wall time: ' + str(end_time - start_time))\n",
    "\n",
    "print('Mean wall time: ' + str(np.mean(total_time)))\n",
    "print('Wall time sterr: ' + str(np.std(total_time) / np.sqrt(len(total_time))))"
   ]
  }
 ],
 "metadata": {
  "kernelspec": {
   "display_name": "gpu-env",
   "language": "python",
   "name": "python3"
  },
  "language_info": {
   "codemirror_mode": {
    "name": "ipython",
    "version": 3
   },
   "file_extension": ".py",
   "mimetype": "text/x-python",
   "name": "python",
   "nbconvert_exporter": "python",
   "pygments_lexer": "ipython3",
   "version": "3.9.15"
  }
 },
 "nbformat": 4,
 "nbformat_minor": 2
}
