{
 "cells": [
  {
   "cell_type": "code",
   "execution_count": 1,
   "metadata": {},
   "outputs": [
    {
     "name": "stdout",
     "output_type": "stream",
     "text": [
      "CUDA availability: True, device: 1\n"
     ]
    }
   ],
   "source": [
    "import time\n",
    "import torch as torch\n",
    "from bmlp.core.tensor import *\n",
    "\n",
    "print(f'CUDA availability: {torch.cuda.is_available()}, device: {torch.cuda.device_count()}')\n",
    "device = torch.cuda.current_device()"
   ]
  },
  {
   "cell_type": "code",
   "execution_count": 2,
   "metadata": {},
   "outputs": [
    {
     "name": "stdout",
     "output_type": "stream",
     "text": [
      "Device - cuda:0 computing ...\n",
      "Wall time: 0.15731215476989746\n",
      "Device - cuda:0 computing ...\n",
      "Wall time: 0.13542413711547852\n",
      "Device - cuda:0 computing ...\n",
      "Wall time: 0.13053369522094727\n",
      "Device - cuda:0 computing ...\n",
      "Wall time: 0.1294417381286621\n",
      "Device - cuda:0 computing ...\n",
      "Wall time: 0.13074445724487305\n",
      "Device - cuda:0 computing ...\n",
      "Wall time: 0.13215875625610352\n",
      "Device - cuda:0 computing ...\n",
      "Wall time: 0.13260269165039062\n",
      "Device - cuda:0 computing ...\n",
      "Wall time: 0.1317129135131836\n",
      "Device - cuda:0 computing ...\n",
      "Wall time: 0.13189053535461426\n",
      "Device - cuda:0 computing ...\n",
      "Wall time: 0.1309959888458252\n",
      "Mean wall time: 0.13428170680999757\n",
      "Wall time sterr: 0.0024741262212381685\n"
     ]
    }
   ],
   "source": [
    "num_reps = 10\n",
    "num_nodes = 5000\n",
    "total_time = []\n",
    "\n",
    "# repeat num_reps times\n",
    "for i in range(num_reps):\n",
    "    \n",
    "    R1 = torch.randint(0, 2, (num_nodes, num_nodes), dtype=torch.float32, device=f'cuda:{device}')\n",
    "    print(f'Device - {R1.device} computing ...')\n",
    "    \n",
    "    # Run and time the BMLP-SMP module\n",
    "    start_time = time.time()\n",
    "    RMS(R1)\n",
    "    end_time = time.time()\n",
    "\n",
    "    total_time.append(end_time - start_time)\n",
    "    print('Wall time: ' + str(end_time - start_time))\n",
    "\n",
    "print('Mean wall time: ' + str(np.mean(total_time)))\n",
    "print('Wall time sterr: ' + str(np.std(total_time) / np.sqrt(len(total_time))))"
   ]
  }
 ],
 "metadata": {
  "kernelspec": {
   "display_name": "bmlp",
   "language": "python",
   "name": "python3"
  },
  "language_info": {
   "codemirror_mode": {
    "name": "ipython",
    "version": 3
   },
   "file_extension": ".py",
   "mimetype": "text/x-python",
   "name": "python",
   "nbconvert_exporter": "python",
   "pygments_lexer": "ipython3",
   "version": "3.13.2"
  }
 },
 "nbformat": 4,
 "nbformat_minor": 2
}
