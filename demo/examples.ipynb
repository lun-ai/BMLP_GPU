{
 "cells": [
  {
   "cell_type": "markdown",
   "metadata": {},
   "source": [
    "Obtain statistics on BMLP_GPU runtime"
   ]
  },
  {
   "cell_type": "code",
   "execution_count": 1,
   "metadata": {},
   "outputs": [
    {
     "name": "stdout",
     "output_type": "stream",
     "text": [
      "Connected to a GPU - GPU info summary: \n",
      "\n",
      "Sat Feb  8 17:18:05 2025       \n",
      "+---------------------------------------------------------------------------------------+\n",
      "| NVIDIA-SMI 535.54.04              Driver Version: 536.23       CUDA Version: 12.2     |\n",
      "|-----------------------------------------+----------------------+----------------------+\n",
      "| GPU  Name                 Persistence-M | Bus-Id        Disp.A | Volatile Uncorr. ECC |\n",
      "| Fan  Temp   Perf          Pwr:Usage/Cap |         Memory-Usage | GPU-Util  Compute M. |\n",
      "|                                         |                      |               MIG M. |\n",
      "|=========================================+======================+======================|\n",
      "|   0  NVIDIA GeForce RTX 4060 Ti     On  | 00000000:01:00.0  On |                  N/A |\n",
      "| 32%   27C    P8               7W / 160W |    787MiB /  8188MiB |     27%      Default |\n",
      "|                                         |                      |                  N/A |\n",
      "+-----------------------------------------+----------------------+----------------------+\n",
      "                                                                                         \n",
      "+---------------------------------------------------------------------------------------+\n",
      "| Processes:                                                                            |\n",
      "|  GPU   GI   CI        PID   Type   Process name                            GPU Memory |\n",
      "|        ID   ID                                                             Usage      |\n",
      "|=======================================================================================|\n",
      "|    0   N/A  N/A        31      G   /Xwayland                                 N/A      |\n",
      "+---------------------------------------------------------------------------------------+\n"
     ]
    }
   ],
   "source": [
    "import cupy as cp \n",
    "import numpy as np\n",
    "import pygraphblas as gb\n",
    "\n",
    "# Check if connected to GPU\n",
    "gpu_info = !nvidia-smi\n",
    "gpu_info = '\\n'.join(gpu_info)\n",
    "if gpu_info.find('failed') >= 0:\n",
    "    print('Not connected to a GPU: need to configure runtime type to an environment with an accessible GPU')\n",
    "else:\n",
    "    print('Connected to a GPU - GPU info summary: \\n\\n' + gpu_info)"
   ]
  },
  {
   "cell_type": "code",
   "execution_count": 2,
   "metadata": {},
   "outputs": [],
   "source": [
    "# Use python wrapper of GraphBLAS on GPU (BLAS - Basic Linear Algebra Subprograms)\n",
    "# GraphBLAS supports graph operations via linear algebraic methods (e.g. matrix multiplication) over various semirings\n",
    "\n",
    "# GraphBLAS version of BMLP-RMS algorithm which performs repeated matrix squaring\n",
    "from bmlp.core.matrix import *"
   ]
  },
  {
   "cell_type": "code",
   "execution_count": 3,
   "metadata": {},
   "outputs": [],
   "source": [
    "# Simple graph example 1\n",
    "# Create edge list (directed graph) and the number of nodes (matrix dimension)\n",
    "edges = [(0, 1), (1, 2), (2, 3), (3, 4)]\n",
    "num_nodes = 5"
   ]
  },
  {
   "cell_type": "code",
   "execution_count": 4,
   "metadata": {},
   "outputs": [
    {
     "name": "stdout",
     "output_type": "stream",
     "text": [
      "R1 = \n",
      "      0  1  2  3  4\n",
      "  0|     t         |  0\n",
      "  1|        t      |  1\n",
      "  2|           t   |  2\n",
      "  3|              t|  3\n",
      "  4|               |  4\n",
      "      0  1  2  3  4\n",
      "\n",
      "R = R2 + I = \n",
      "      0  1  2  3  4\n",
      "  0|  t  t         |  0\n",
      "  1|     t  t      |  1\n",
      "  2|        t  t   |  2\n",
      "  3|           t  t|  3\n",
      "  4|              t|  4\n",
      "      0  1  2  3  4\n",
      "\n",
      "fixpoint = \n",
      "      0  1  2  3  4\n",
      "  0|  t  t  t      |  0\n",
      "  1|     t  t  t   |  1\n",
      "  2|        t  t  t|  2\n",
      "  3|           t  t|  3\n",
      "  4|              t|  4\n",
      "      0  1  2  3  4\n",
      "\n",
      "fixpoint = \n",
      "      0  1  2  3  4\n",
      "  0|  t  t  t  t  t|  0\n",
      "  1|     t  t  t  t|  1\n",
      "  2|        t  t  t|  2\n",
      "  3|           t  t|  3\n",
      "  4|              t|  4\n",
      "      0  1  2  3  4\n",
      "\n",
      "fixpoint = \n",
      "      0  1  2  3  4\n",
      "  0|  t  t  t  t  t|  0\n",
      "  1|     t  t  t  t|  1\n",
      "  2|        t  t  t|  2\n",
      "  3|           t  t|  3\n",
      "  4|              t|  4\n",
      "      0  1  2  3  4\n",
      "\n",
      "R0* = \n",
      "      0  1  2  3  4\n",
      "  0|     t  t  t  t|  0\n",
      "  1|        t  t  t|  1\n",
      "  2|           t  t|  2\n",
      "  3|              t|  3\n",
      "  4|               |  4\n",
      "      0  1  2  3  4\n",
      "\n",
      "closure R2* = \n",
      "      0  1  2  3  4\n",
      "  0|     t  t  t  t|  0\n",
      "  1|        t  t  t|  1\n",
      "  2|           t  t|  2\n",
      "  3|              t|  3\n",
      "  4|               |  4\n",
      "      0  1  2  3  4\n",
      "\n"
     ]
    }
   ],
   "source": [
    "# Create a square adjacency matrix using BOOL type\n",
    "R1 = gb.Matrix.sparse(gb.BOOL, num_nodes, num_nodes)\n",
    "\n",
    "# Insert edges into the adjacency matrix\n",
    "for src, dst in edges:\n",
    "    R1[src, dst] = True\n",
    "print('R1 = \\n'+ str(R1) + '\\n')\n",
    "        \n",
    "# Print the transitive closure matrix\n",
    "print('closure R2* = \\n' + str(RMS(R1, print_matrix=True)) + '\\n')"
   ]
  },
  {
   "cell_type": "code",
   "execution_count": 5,
   "metadata": {},
   "outputs": [],
   "source": [
    "# Simple graph example 2\n",
    "# Create edge list (directed graph) and the number of nodes (matrix dimension)\n",
    "edges = [(0, 1), (1, 2), (2, 3), (3, 0), (4, 4)]\n",
    "num_nodes = 5"
   ]
  },
  {
   "cell_type": "code",
   "execution_count": 6,
   "metadata": {},
   "outputs": [
    {
     "name": "stdout",
     "output_type": "stream",
     "text": [
      "R1 = \n",
      "      0  1  2  3  4\n",
      "  0|     t         |  0\n",
      "  1|        t      |  1\n",
      "  2|           t   |  2\n",
      "  3|  t            |  3\n",
      "  4|              t|  4\n",
      "      0  1  2  3  4\n",
      "\n",
      "closure R2* = \n",
      "      0  1  2  3  4\n",
      "  0|  t  t  t  t   |  0\n",
      "  1|  t  t  t  t   |  1\n",
      "  2|  t  t  t  t   |  2\n",
      "  3|  t  t  t  t   |  3\n",
      "  4|              t|  4\n",
      "      0  1  2  3  4\n",
      "\n"
     ]
    }
   ],
   "source": [
    "# Create a square adjacency matrix using BOOL type\n",
    "R1 = gb.Matrix.sparse(gb.BOOL, num_nodes, num_nodes)\n",
    "\n",
    "# Insert edges into the adjacency matrix\n",
    "for src, dst in edges:\n",
    "    R1[src, dst] = True\n",
    "print('R1 = \\n'+ str(R1) + '\\n')\n",
    "        \n",
    "# Print the transitive closure matrix\n",
    "print('closure R2* = \\n' + str(RMS(R1)) + '\\n')"
   ]
  },
  {
   "cell_type": "code",
   "execution_count": 7,
   "metadata": {},
   "outputs": [
    {
     "name": "stdout",
     "output_type": "stream",
     "text": [
      "closure V* = \n",
      "0| t\n",
      "1| t\n",
      "2| t\n",
      "3| t\n",
      "4|\n",
      "\n"
     ]
    }
   ],
   "source": [
    "# Create a vector to represent a query\n",
    "V = gb.Vector.sparse(gb.BOOL, num_nodes)\n",
    "\n",
    "# query the reachability of node 3\n",
    "V[3] = True\n",
    "\n",
    "print('closure V* = \\n' + str(SMP(V,R1)) + '\\n')"
   ]
  },
  {
   "cell_type": "code",
   "execution_count": 8,
   "metadata": {},
   "outputs": [
    {
     "name": "stdout",
     "output_type": "stream",
     "text": [
      "      0  1  2\n",
      "  0|  t  t   |  0\n",
      "  1|        t|  1\n",
      "  2|         |  2\n",
      "      0  1  2\n",
      "      0  1  2\n",
      "  0|        t|  0\n",
      "  1|  t  t   |  1\n",
      "  2|  t  t  t|  2\n",
      "      0  1  2\n"
     ]
    }
   ],
   "source": [
    "R1 = gb.Matrix.sparse(gb.BOOL, 3, 3)\n",
    "R1[0,0] = True\n",
    "R1[0,1] = True\n",
    "R1[1,2] = True\n",
    "# R1 = R1.apply(gb.types.BOOL.LNOT)\n",
    "print(R1)\n",
    "\n",
    "print(negate(R1))\n"
   ]
  },
  {
   "cell_type": "code",
   "execution_count": 9,
   "metadata": {},
   "outputs": [
    {
     "name": "stdout",
     "output_type": "stream",
     "text": [
      "No. edges: 25000000\n"
     ]
    }
   ],
   "source": [
    "import random, time\n",
    "\n",
    "# Complex graph\n",
    "num_nodes = 5000\n",
    "all_edges = [(i, j) for i in range(num_nodes) for j in range(num_nodes)]\n",
    "print('No. edges: ' + str(len(all_edges)))"
   ]
  },
  {
   "cell_type": "code",
   "execution_count": 10,
   "metadata": {},
   "outputs": [],
   "source": [
    "# num_reps = 10\n",
    "# p = 0.5\n",
    "# total_time = []\n",
    "\n",
    "# # repeat num_reps times\n",
    "# for i in range(num_reps):\n",
    "\n",
    "#     # sample edges with edge probability < p\n",
    "#     sampled_edges = list(filter(lambda _: random.random() < p, all_edges))\n",
    "\n",
    "#     # Create a square adjacency matrix using BOOL type\n",
    "#     empty_matrix = gb.Matrix.sparse(gb.BOOL, num_nodes, num_nodes)\n",
    "#     R1 = empty_matrix\n",
    "\n",
    "#     # Insert edges into the adjacency matrix\n",
    "#     for src, dst in sampled_edges:\n",
    "#         R1[src, dst] = True\n",
    "#     R1.to_binfile(\"large\")\n",
    "\n",
    "#     # Run and time the BMLP-RMS module\n",
    "#     start_time = time.time()\n",
    "#     RMS(R1)\n",
    "#     end_time = time.time()\n",
    "\n",
    "#     total_time.append(end_time - start_time)\n",
    "#     print('Wall time: ' + str(end_time - start_time))\n",
    "\n",
    "# print('Mean wall time: ' + str(np.mean(total_time)))\n",
    "# print('Wall time sterr: ' + str(np.std(total_time) / np.sqrt(len(total_time))))\n"
   ]
  },
  {
   "cell_type": "code",
   "execution_count": 11,
   "metadata": {},
   "outputs": [
    {
     "name": "stdout",
     "output_type": "stream",
     "text": [
      "Wall time: 0.05126166343688965\n",
      "Wall time: 0.0387113094329834\n",
      "Wall time: 0.030705928802490234\n",
      "Wall time: 0.02973771095275879\n",
      "Wall time: 0.0309598445892334\n",
      "Wall time: 0.031252384185791016\n",
      "Wall time: 0.03593277931213379\n",
      "Wall time: 0.06989812850952148\n",
      "Wall time: 0.0631411075592041\n",
      "Wall time: 0.03707146644592285\n",
      "Mean wall time: 0.04186723232269287\n",
      "Wall time sterr: 0.0043567043620277935\n"
     ]
    }
   ],
   "source": [
    "num_reps = 10\n",
    "p = 0.5\n",
    "total_time = []\n",
    "\n",
    "# repeat num_reps times\n",
    "for i in range(num_reps):\n",
    "\n",
    "    # sample edges with edge probability < p\n",
    "    sampled_edges = list(filter(lambda _: random.random() < p, all_edges))\n",
    "\n",
    "    # Create a square adjacency matrix using BOOL type\n",
    "    empty_matrix = gb.Matrix.sparse(gb.BOOL, num_nodes, num_nodes)\n",
    "    R1 = empty_matrix\n",
    "\n",
    "    # Insert edges into the adjacency matrix\n",
    "    for src, dst in sampled_edges:\n",
    "        R1[src, dst] = True\n",
    "        \n",
    "    # Create a vector to represent a query\n",
    "    V = gb.Vector.sparse(gb.BOOL, num_nodes)\n",
    "\n",
    "    # query the reachability of node 3\n",
    "    V[1] = True\n",
    "\n",
    "    # Run and time the BMLP-SMP module\n",
    "    start_time = time.time()\n",
    "    SMP(V,R1)\n",
    "    end_time = time.time()\n",
    "\n",
    "    total_time.append(end_time - start_time)\n",
    "    print('Wall time: ' + str(end_time - start_time))\n",
    "\n",
    "print('Mean wall time: ' + str(np.mean(total_time)))\n",
    "print('Wall time sterr: ' + str(np.std(total_time) / np.sqrt(len(total_time))))"
   ]
  }
 ],
 "metadata": {
  "kernelspec": {
   "display_name": "bmlp",
   "language": "python",
   "name": "python3"
  },
  "language_info": {
   "codemirror_mode": {
    "name": "ipython",
    "version": 3
   },
   "file_extension": ".py",
   "mimetype": "text/x-python",
   "name": "python",
   "nbconvert_exporter": "python",
   "pygments_lexer": "ipython3",
   "version": "3.9.15"
  }
 },
 "nbformat": 4,
 "nbformat_minor": 2
}
